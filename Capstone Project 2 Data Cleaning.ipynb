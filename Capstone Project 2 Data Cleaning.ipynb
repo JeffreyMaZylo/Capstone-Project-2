{
 "cells": [
  {
   "cell_type": "code",
   "execution_count": 127,
   "metadata": {},
   "outputs": [],
   "source": [
    "import pandas as pd\n",
    "import numpy as np\n",
    "import datetime"
   ]
  },
  {
   "cell_type": "code",
   "execution_count": 128,
   "metadata": {},
   "outputs": [],
   "source": [
    "api_df = pd.read_csv('C:/Users/jeffr/Documents/MTA Info/mta_311_12_26_14.csv',low_memory=False)"
   ]
  },
  {
   "cell_type": "code",
   "execution_count": 129,
   "metadata": {},
   "outputs": [
    {
     "data": {
      "text/plain": [
       "Index(['agency', 'borough', 'latitude', 'longitude', 'open_data_channel_type',\n",
       "       'late', 'created_date_day_of_week', 'Complaint Grouping',\n",
       "       'Location_Type_Grouping'],\n",
       "      dtype='object')"
      ]
     },
     "execution_count": 129,
     "metadata": {},
     "output_type": "execute_result"
    }
   ],
   "source": [
    "api_df.columns"
   ]
  },
  {
   "cell_type": "code",
   "execution_count": 130,
   "metadata": {},
   "outputs": [
    {
     "data": {
      "text/html": [
       "<div>\n",
       "<style scoped>\n",
       "    .dataframe tbody tr th:only-of-type {\n",
       "        vertical-align: middle;\n",
       "    }\n",
       "\n",
       "    .dataframe tbody tr th {\n",
       "        vertical-align: top;\n",
       "    }\n",
       "\n",
       "    .dataframe thead th {\n",
       "        text-align: right;\n",
       "    }\n",
       "</style>\n",
       "<table border=\"1\" class=\"dataframe\">\n",
       "  <thead>\n",
       "    <tr style=\"text-align: right;\">\n",
       "      <th></th>\n",
       "      <th>agency</th>\n",
       "      <th>borough</th>\n",
       "      <th>latitude</th>\n",
       "      <th>longitude</th>\n",
       "      <th>open_data_channel_type</th>\n",
       "      <th>late</th>\n",
       "      <th>created_date_day_of_week</th>\n",
       "      <th>Complaint Grouping</th>\n",
       "      <th>Location_Type_Grouping</th>\n",
       "    </tr>\n",
       "  </thead>\n",
       "  <tbody>\n",
       "    <tr>\n",
       "      <th>0</th>\n",
       "      <td>EDC</td>\n",
       "      <td>MANHATTAN</td>\n",
       "      <td>40.734426</td>\n",
       "      <td>-73.987714</td>\n",
       "      <td>ONLINE</td>\n",
       "      <td>False</td>\n",
       "      <td>1</td>\n",
       "      <td>Noise</td>\n",
       "      <td>Public</td>\n",
       "    </tr>\n",
       "    <tr>\n",
       "      <th>1</th>\n",
       "      <td>NYPD</td>\n",
       "      <td>MANHATTAN</td>\n",
       "      <td>40.718309</td>\n",
       "      <td>-73.985476</td>\n",
       "      <td>ONLINE</td>\n",
       "      <td>False</td>\n",
       "      <td>1</td>\n",
       "      <td>Noise</td>\n",
       "      <td>Public</td>\n",
       "    </tr>\n",
       "    <tr>\n",
       "      <th>2</th>\n",
       "      <td>NYPD</td>\n",
       "      <td>MANHATTAN</td>\n",
       "      <td>40.861550</td>\n",
       "      <td>-73.926897</td>\n",
       "      <td>PHONE</td>\n",
       "      <td>False</td>\n",
       "      <td>1</td>\n",
       "      <td>Noise</td>\n",
       "      <td>Residential</td>\n",
       "    </tr>\n",
       "    <tr>\n",
       "      <th>3</th>\n",
       "      <td>NYPD</td>\n",
       "      <td>MANHATTAN</td>\n",
       "      <td>40.721488</td>\n",
       "      <td>-73.995115</td>\n",
       "      <td>ONLINE</td>\n",
       "      <td>False</td>\n",
       "      <td>1</td>\n",
       "      <td>Noise</td>\n",
       "      <td>Residential</td>\n",
       "    </tr>\n",
       "    <tr>\n",
       "      <th>4</th>\n",
       "      <td>NYPD</td>\n",
       "      <td>BROOKLYN</td>\n",
       "      <td>40.620056</td>\n",
       "      <td>-73.940781</td>\n",
       "      <td>PHONE</td>\n",
       "      <td>False</td>\n",
       "      <td>1</td>\n",
       "      <td>Traffic</td>\n",
       "      <td>Public</td>\n",
       "    </tr>\n",
       "  </tbody>\n",
       "</table>\n",
       "</div>"
      ],
      "text/plain": [
       "  agency    borough   latitude  longitude open_data_channel_type   late  \\\n",
       "0    EDC  MANHATTAN  40.734426 -73.987714                 ONLINE  False   \n",
       "1   NYPD  MANHATTAN  40.718309 -73.985476                 ONLINE  False   \n",
       "2   NYPD  MANHATTAN  40.861550 -73.926897                  PHONE  False   \n",
       "3   NYPD  MANHATTAN  40.721488 -73.995115                 ONLINE  False   \n",
       "4   NYPD   BROOKLYN  40.620056 -73.940781                  PHONE  False   \n",
       "\n",
       "   created_date_day_of_week Complaint Grouping Location_Type_Grouping  \n",
       "0                         1              Noise                 Public  \n",
       "1                         1              Noise                 Public  \n",
       "2                         1              Noise            Residential  \n",
       "3                         1              Noise            Residential  \n",
       "4                         1            Traffic                 Public  "
      ]
     },
     "execution_count": 130,
     "metadata": {},
     "output_type": "execute_result"
    }
   ],
   "source": [
    "api_df.head()"
   ]
  },
  {
   "cell_type": "code",
   "execution_count": 97,
   "metadata": {},
   "outputs": [],
   "source": [
    "DUMP = ['bridge_highway_direction','bridge_highway_name',\n",
    "       'bridge_highway_segment', 'landmark','road_ramp','address_type','agency_name','cross_street_1', 'cross_street_2',\n",
    "          'facility_type','intersection_street_1', 'intersection_street_2', \n",
    "         'location', 'park_borough', 'park_facility_name', 'street_name','taxi_company_borough', 'taxi_pick_up_location', 'unique_key',\n",
    "       'x_coordinate_state_plane', 'city','incident_address','descriptor', 'community_board','y_coordinate_state_plane','bbl','incident_zip','resolution_action_updated_date','resolution_description','vehicle_type','location_address','location_zip','location_city','location_state']"
   ]
  },
  {
   "cell_type": "code",
   "execution_count": 98,
   "metadata": {},
   "outputs": [],
   "source": [
    "api_df.drop(DUMP, axis=1,inplace=True)"
   ]
  },
  {
   "cell_type": "code",
   "execution_count": 87,
   "metadata": {},
   "outputs": [
    {
     "data": {
      "text/html": [
       "<div>\n",
       "<style scoped>\n",
       "    .dataframe tbody tr th:only-of-type {\n",
       "        vertical-align: middle;\n",
       "    }\n",
       "\n",
       "    .dataframe tbody tr th {\n",
       "        vertical-align: top;\n",
       "    }\n",
       "\n",
       "    .dataframe thead th {\n",
       "        text-align: right;\n",
       "    }\n",
       "</style>\n",
       "<table border=\"1\" class=\"dataframe\">\n",
       "  <thead>\n",
       "    <tr style=\"text-align: right;\">\n",
       "      <th></th>\n",
       "      <th>agency</th>\n",
       "      <th>borough</th>\n",
       "      <th>closed_date</th>\n",
       "      <th>complaint_type</th>\n",
       "      <th>created_date</th>\n",
       "      <th>due_date</th>\n",
       "      <th>latitude</th>\n",
       "      <th>location_type</th>\n",
       "      <th>longitude</th>\n",
       "      <th>open_data_channel_type</th>\n",
       "      <th>status</th>\n",
       "    </tr>\n",
       "  </thead>\n",
       "  <tbody>\n",
       "    <tr>\n",
       "      <th>0</th>\n",
       "      <td>EDC</td>\n",
       "      <td>MANHATTAN</td>\n",
       "      <td>2019-01-08T14:50:50.000</td>\n",
       "      <td>Noise - Helicopter</td>\n",
       "      <td>2019-01-01T13:00:46.000</td>\n",
       "      <td>2019-01-11T13:00:46.000</td>\n",
       "      <td>40.734426</td>\n",
       "      <td>Above Address</td>\n",
       "      <td>-73.987714</td>\n",
       "      <td>ONLINE</td>\n",
       "      <td>Closed</td>\n",
       "    </tr>\n",
       "    <tr>\n",
       "      <th>1</th>\n",
       "      <td>DSNY</td>\n",
       "      <td>QUEENS</td>\n",
       "      <td>2019-01-03T00:00:00.000</td>\n",
       "      <td>Request Large Bulky Item Collection</td>\n",
       "      <td>2019-01-01T13:01:00.000</td>\n",
       "      <td>NaN</td>\n",
       "      <td>40.699292</td>\n",
       "      <td>Sidewalk</td>\n",
       "      <td>-73.755377</td>\n",
       "      <td>PHONE</td>\n",
       "      <td>Closed</td>\n",
       "    </tr>\n",
       "    <tr>\n",
       "      <th>2</th>\n",
       "      <td>HPD</td>\n",
       "      <td>MANHATTAN</td>\n",
       "      <td>2019-01-03T14:35:51.000</td>\n",
       "      <td>HEAT/HOT WATER</td>\n",
       "      <td>2019-01-01T13:01:00.000</td>\n",
       "      <td>NaN</td>\n",
       "      <td>40.821061</td>\n",
       "      <td>RESIDENTIAL BUILDING</td>\n",
       "      <td>-73.955249</td>\n",
       "      <td>ONLINE</td>\n",
       "      <td>Closed</td>\n",
       "    </tr>\n",
       "    <tr>\n",
       "      <th>3</th>\n",
       "      <td>NYPD</td>\n",
       "      <td>MANHATTAN</td>\n",
       "      <td>2019-01-01T16:42:26.000</td>\n",
       "      <td>Noise - Street/Sidewalk</td>\n",
       "      <td>2019-01-01T13:01:38.000</td>\n",
       "      <td>2019-01-01T21:01:38.000</td>\n",
       "      <td>40.718309</td>\n",
       "      <td>Street/Sidewalk</td>\n",
       "      <td>-73.985476</td>\n",
       "      <td>ONLINE</td>\n",
       "      <td>Closed</td>\n",
       "    </tr>\n",
       "    <tr>\n",
       "      <th>4</th>\n",
       "      <td>NYPD</td>\n",
       "      <td>MANHATTAN</td>\n",
       "      <td>2019-01-01T15:13:27.000</td>\n",
       "      <td>Noise - Residential</td>\n",
       "      <td>2019-01-01T13:01:41.000</td>\n",
       "      <td>2019-01-01T21:01:41.000</td>\n",
       "      <td>40.861550</td>\n",
       "      <td>Residential Building/House</td>\n",
       "      <td>-73.926897</td>\n",
       "      <td>PHONE</td>\n",
       "      <td>Closed</td>\n",
       "    </tr>\n",
       "  </tbody>\n",
       "</table>\n",
       "</div>"
      ],
      "text/plain": [
       "  agency    borough              closed_date  \\\n",
       "0    EDC  MANHATTAN  2019-01-08T14:50:50.000   \n",
       "1   DSNY     QUEENS  2019-01-03T00:00:00.000   \n",
       "2    HPD  MANHATTAN  2019-01-03T14:35:51.000   \n",
       "3   NYPD  MANHATTAN  2019-01-01T16:42:26.000   \n",
       "4   NYPD  MANHATTAN  2019-01-01T15:13:27.000   \n",
       "\n",
       "                        complaint_type             created_date  \\\n",
       "0                   Noise - Helicopter  2019-01-01T13:00:46.000   \n",
       "1  Request Large Bulky Item Collection  2019-01-01T13:01:00.000   \n",
       "2                       HEAT/HOT WATER  2019-01-01T13:01:00.000   \n",
       "3              Noise - Street/Sidewalk  2019-01-01T13:01:38.000   \n",
       "4                  Noise - Residential  2019-01-01T13:01:41.000   \n",
       "\n",
       "                  due_date   latitude               location_type  longitude  \\\n",
       "0  2019-01-11T13:00:46.000  40.734426               Above Address -73.987714   \n",
       "1                      NaN  40.699292                    Sidewalk -73.755377   \n",
       "2                      NaN  40.821061        RESIDENTIAL BUILDING -73.955249   \n",
       "3  2019-01-01T21:01:38.000  40.718309             Street/Sidewalk -73.985476   \n",
       "4  2019-01-01T21:01:41.000  40.861550  Residential Building/House -73.926897   \n",
       "\n",
       "  open_data_channel_type  status  \n",
       "0                 ONLINE  Closed  \n",
       "1                  PHONE  Closed  \n",
       "2                 ONLINE  Closed  \n",
       "3                 ONLINE  Closed  \n",
       "4                  PHONE  Closed  "
      ]
     },
     "execution_count": 87,
     "metadata": {},
     "output_type": "execute_result"
    }
   ],
   "source": [
    "api_df.head()"
   ]
  },
  {
   "cell_type": "code",
   "execution_count": 27,
   "metadata": {},
   "outputs": [
    {
     "name": "stdout",
     "output_type": "stream",
     "text": [
      "<class 'pandas.core.frame.DataFrame'>\n",
      "RangeIndex: 50000 entries, 0 to 49999\n",
      "Data columns (total 12 columns):\n",
      "agency                    50000 non-null object\n",
      "borough                   50000 non-null object\n",
      "city                      48339 non-null object\n",
      "closed_date               49247 non-null object\n",
      "complaint_type            50000 non-null object\n",
      "created_date              50000 non-null object\n",
      "due_date                  19004 non-null object\n",
      "latitude                  47093 non-null float64\n",
      "location_type             39979 non-null object\n",
      "longitude                 47093 non-null float64\n",
      "open_data_channel_type    50000 non-null object\n",
      "status                    50000 non-null object\n",
      "dtypes: float64(2), object(10)\n",
      "memory usage: 4.6+ MB\n"
     ]
    }
   ],
   "source": [
    "api_df.info()"
   ]
  },
  {
   "cell_type": "code",
   "execution_count": 99,
   "metadata": {},
   "outputs": [],
   "source": [
    "#some features have less objects than the rest. Let's drop the rows containing null values. \n",
    "\n",
    "\n",
    "api_df.dropna(subset=['closed_date'],inplace=True)\n",
    "api_df.dropna(subset=['due_date'],inplace=True)\n",
    "api_df.dropna(subset=['latitude'],inplace=True)\n",
    "api_df.dropna(subset=['location_type'],inplace=True)\n"
   ]
  },
  {
   "cell_type": "code",
   "execution_count": 29,
   "metadata": {},
   "outputs": [
    {
     "name": "stdout",
     "output_type": "stream",
     "text": [
      "<class 'pandas.core.frame.DataFrame'>\n",
      "Int64Index: 16586 entries, 0 to 49998\n",
      "Data columns (total 12 columns):\n",
      "agency                    16586 non-null object\n",
      "borough                   16586 non-null object\n",
      "city                      16586 non-null object\n",
      "closed_date               16586 non-null object\n",
      "complaint_type            16586 non-null object\n",
      "created_date              16586 non-null object\n",
      "due_date                  16586 non-null object\n",
      "latitude                  16586 non-null float64\n",
      "location_type             16586 non-null object\n",
      "longitude                 16586 non-null float64\n",
      "open_data_channel_type    16586 non-null object\n",
      "status                    16586 non-null object\n",
      "dtypes: float64(2), object(10)\n",
      "memory usage: 1.6+ MB\n"
     ]
    }
   ],
   "source": [
    "api_df.info()"
   ]
  },
  {
   "cell_type": "code",
   "execution_count": 90,
   "metadata": {},
   "outputs": [
    {
     "data": {
      "text/plain": [
       "False"
      ]
     },
     "execution_count": 90,
     "metadata": {},
     "output_type": "execute_result"
    }
   ],
   "source": [
    "#check for any null values\n",
    "\n",
    "api_df.isnull().values.any()"
   ]
  },
  {
   "cell_type": "code",
   "execution_count": 100,
   "metadata": {},
   "outputs": [
    {
     "data": {
      "text/plain": [
       "count     16587\n",
       "unique        2\n",
       "top       False\n",
       "freq      13873\n",
       "Name: late, dtype: object"
      ]
     },
     "execution_count": 100,
     "metadata": {},
     "output_type": "execute_result"
    }
   ],
   "source": [
    "#create target variable: late\n",
    "\n",
    "api_df['late']=api_df['closed_date']>api_df['due_date']\n",
    "api_df['late'].describe()"
   ]
  },
  {
   "cell_type": "code",
   "execution_count": 92,
   "metadata": {},
   "outputs": [
    {
     "name": "stdout",
     "output_type": "stream",
     "text": [
      "Late Percentage: 16.363197877728204 %\n"
     ]
    }
   ],
   "source": [
    "#Percentage of cases that are late\n",
    "\n",
    "print(\"Late Percentage:\", (16586-13872)/16586*100, \"%\")"
   ]
  },
  {
   "cell_type": "code",
   "execution_count": 101,
   "metadata": {},
   "outputs": [],
   "source": [
    "# Convert to datetime\n",
    "\n",
    "api_df['created_date']= pd.to_datetime(api_df['created_date'])"
   ]
  },
  {
   "cell_type": "code",
   "execution_count": 102,
   "metadata": {},
   "outputs": [],
   "source": [
    "#isolate day of week from datetime\n",
    "\n",
    "api_df['created_date_day_of_week'] = api_df['created_date'].dt.dayofweek"
   ]
  },
  {
   "cell_type": "code",
   "execution_count": 103,
   "metadata": {},
   "outputs": [],
   "source": [
    "#drop created_date\n",
    "\n",
    "api_df.drop('created_date',axis=1,inplace=True)"
   ]
  },
  {
   "cell_type": "code",
   "execution_count": 104,
   "metadata": {},
   "outputs": [
    {
     "data": {
      "text/html": [
       "<div>\n",
       "<style scoped>\n",
       "    .dataframe tbody tr th:only-of-type {\n",
       "        vertical-align: middle;\n",
       "    }\n",
       "\n",
       "    .dataframe tbody tr th {\n",
       "        vertical-align: top;\n",
       "    }\n",
       "\n",
       "    .dataframe thead th {\n",
       "        text-align: right;\n",
       "    }\n",
       "</style>\n",
       "<table border=\"1\" class=\"dataframe\">\n",
       "  <thead>\n",
       "    <tr style=\"text-align: right;\">\n",
       "      <th></th>\n",
       "      <th>agency</th>\n",
       "      <th>borough</th>\n",
       "      <th>closed_date</th>\n",
       "      <th>complaint_type</th>\n",
       "      <th>due_date</th>\n",
       "      <th>latitude</th>\n",
       "      <th>location_type</th>\n",
       "      <th>longitude</th>\n",
       "      <th>open_data_channel_type</th>\n",
       "      <th>status</th>\n",
       "      <th>late</th>\n",
       "      <th>created_date_day_of_week</th>\n",
       "    </tr>\n",
       "  </thead>\n",
       "  <tbody>\n",
       "    <tr>\n",
       "      <th>49987</th>\n",
       "      <td>NYPD</td>\n",
       "      <td>QUEENS</td>\n",
       "      <td>2019-01-08T22:21:08.000</td>\n",
       "      <td>Derelict Vehicle</td>\n",
       "      <td>2019-01-08T23:15:33.000</td>\n",
       "      <td>40.679083</td>\n",
       "      <td>Street/Sidewalk</td>\n",
       "      <td>-73.733700</td>\n",
       "      <td>PHONE</td>\n",
       "      <td>Closed</td>\n",
       "      <td>False</td>\n",
       "      <td>1</td>\n",
       "    </tr>\n",
       "    <tr>\n",
       "      <th>49988</th>\n",
       "      <td>DOT</td>\n",
       "      <td>STATEN ISLAND</td>\n",
       "      <td>2019-01-15T08:14:17.000</td>\n",
       "      <td>Broken Parking Meter</td>\n",
       "      <td>2019-01-29T15:15:59.000</td>\n",
       "      <td>40.586279</td>\n",
       "      <td>Street</td>\n",
       "      <td>-74.088481</td>\n",
       "      <td>PHONE</td>\n",
       "      <td>Closed</td>\n",
       "      <td>False</td>\n",
       "      <td>1</td>\n",
       "    </tr>\n",
       "    <tr>\n",
       "      <th>49991</th>\n",
       "      <td>NYPD</td>\n",
       "      <td>BROOKLYN</td>\n",
       "      <td>2019-01-08T18:32:58.000</td>\n",
       "      <td>Illegal Parking</td>\n",
       "      <td>2019-01-08T23:16:04.000</td>\n",
       "      <td>40.590053</td>\n",
       "      <td>Street/Sidewalk</td>\n",
       "      <td>-73.961644</td>\n",
       "      <td>MOBILE</td>\n",
       "      <td>Closed</td>\n",
       "      <td>False</td>\n",
       "      <td>1</td>\n",
       "    </tr>\n",
       "    <tr>\n",
       "      <th>49992</th>\n",
       "      <td>DOT</td>\n",
       "      <td>MANHATTAN</td>\n",
       "      <td>2019-01-14T16:01:43.000</td>\n",
       "      <td>Sidewalk Condition</td>\n",
       "      <td>2019-02-07T15:16:12.000</td>\n",
       "      <td>40.768258</td>\n",
       "      <td>Sidewalk</td>\n",
       "      <td>-73.990588</td>\n",
       "      <td>ONLINE</td>\n",
       "      <td>Closed</td>\n",
       "      <td>False</td>\n",
       "      <td>1</td>\n",
       "    </tr>\n",
       "    <tr>\n",
       "      <th>49998</th>\n",
       "      <td>DOHMH</td>\n",
       "      <td>MANHATTAN</td>\n",
       "      <td>2019-01-11T16:16:30.000</td>\n",
       "      <td>Indoor Air Quality</td>\n",
       "      <td>2019-02-07T15:16:51.000</td>\n",
       "      <td>40.831240</td>\n",
       "      <td>Other (Explain Below)</td>\n",
       "      <td>-73.946924</td>\n",
       "      <td>PHONE</td>\n",
       "      <td>Closed</td>\n",
       "      <td>False</td>\n",
       "      <td>1</td>\n",
       "    </tr>\n",
       "  </tbody>\n",
       "</table>\n",
       "</div>"
      ],
      "text/plain": [
       "      agency        borough              closed_date        complaint_type  \\\n",
       "49987   NYPD         QUEENS  2019-01-08T22:21:08.000      Derelict Vehicle   \n",
       "49988    DOT  STATEN ISLAND  2019-01-15T08:14:17.000  Broken Parking Meter   \n",
       "49991   NYPD       BROOKLYN  2019-01-08T18:32:58.000       Illegal Parking   \n",
       "49992    DOT      MANHATTAN  2019-01-14T16:01:43.000    Sidewalk Condition   \n",
       "49998  DOHMH      MANHATTAN  2019-01-11T16:16:30.000    Indoor Air Quality   \n",
       "\n",
       "                      due_date   latitude          location_type  longitude  \\\n",
       "49987  2019-01-08T23:15:33.000  40.679083        Street/Sidewalk -73.733700   \n",
       "49988  2019-01-29T15:15:59.000  40.586279                 Street -74.088481   \n",
       "49991  2019-01-08T23:16:04.000  40.590053        Street/Sidewalk -73.961644   \n",
       "49992  2019-02-07T15:16:12.000  40.768258               Sidewalk -73.990588   \n",
       "49998  2019-02-07T15:16:51.000  40.831240  Other (Explain Below) -73.946924   \n",
       "\n",
       "      open_data_channel_type  status   late  created_date_day_of_week  \n",
       "49987                  PHONE  Closed  False                         1  \n",
       "49988                  PHONE  Closed  False                         1  \n",
       "49991                 MOBILE  Closed  False                         1  \n",
       "49992                 ONLINE  Closed  False                         1  \n",
       "49998                  PHONE  Closed  False                         1  "
      ]
     },
     "execution_count": 104,
     "metadata": {},
     "output_type": "execute_result"
    }
   ],
   "source": [
    "api_df.tail()"
   ]
  },
  {
   "cell_type": "code",
   "execution_count": 105,
   "metadata": {},
   "outputs": [
    {
     "data": {
      "text/plain": [
       "array(['Noise - Helicopter', 'Noise - Street/Sidewalk',\n",
       "       'Noise - Residential', 'Blocked Driveway',\n",
       "       'Homeless Person Assistance', 'Illegal Parking', 'Noise - Vehicle',\n",
       "       'Derelict Vehicle', 'Graffiti', 'Sidewalk Condition',\n",
       "       'Street Condition', 'Taxi Complaint', 'Bus Stop Shelter Complaint',\n",
       "       'Damaged Tree', 'Street Sign - Dangling', 'Animal Abuse',\n",
       "       'Street Sign - Missing', 'Noise - Commercial', 'Drug Activity',\n",
       "       'Highway Condition', 'Vending', 'Traffic', 'Food Establishment',\n",
       "       'Root/Sewer/Sidewalk Condition', 'Drinking Water',\n",
       "       'Broken Parking Meter', 'Public Payphone Complaint',\n",
       "       'Street Sign - Damaged', 'Bridge Condition', 'Homeless Encampment',\n",
       "       'For Hire Vehicle Complaint', 'Beach/Pool/Sauna Complaint',\n",
       "       'New Tree Request', 'Overgrown Tree/Branches', 'Curb Condition',\n",
       "       'Noise - House of Worship', 'Non-Emergency Police Matter',\n",
       "       'Noise - Park', 'Indoor Air Quality', 'Rodent',\n",
       "       'Unsanitary Animal Pvt Property', 'Food Poisoning',\n",
       "       'Unsanitary Pigeon Condition', 'DOF Property - Payment Issue',\n",
       "       'Animal in a Park', 'Mold', 'Indoor Sewage', 'School Maintenance',\n",
       "       'Dead/Dying Tree', 'Maintenance or Facility', 'DRIE',\n",
       "       'Bike/Roller/Skate Chronic', 'Bus Stop Shelter Placement',\n",
       "       'Illegal Tree Damage', 'Asbestos', 'Posting Advertisement',\n",
       "       'DPR Internal', 'Illegal Fireworks', 'Drinking', 'Panhandling',\n",
       "       'Urinating in Public', 'LinkNYC', 'Bike Rack Condition',\n",
       "       'Violation of Park Rules', 'Public Toilet',\n",
       "       'DOF Property - Reduction Issue', 'Lifeguard',\n",
       "       'Senior Center Complaint'], dtype=object)"
      ]
     },
     "execution_count": 105,
     "metadata": {},
     "output_type": "execute_result"
    }
   ],
   "source": [
    "api_df['complaint_type'].unique()"
   ]
  },
  {
   "cell_type": "code",
   "execution_count": 106,
   "metadata": {},
   "outputs": [],
   "source": [
    "mapping= {'Noise - Helicopter': 'Noise', 'Noise - Street/Sidewalk': 'Noise', 'Noise - Residential': 'Noise', 'Blocked Driveway': 'Traffic', 'Illegal Parking': 'Traffic',\n",
    "'Derelict Vehicle': 'Traffic', 'Graffiti': \"Cleaning\", 'Sidewalk Condition': \"Maintenance\",\n",
    "       'Street Condition': \"Maintenance\", 'Damaged Tree': \"Maintenance\", 'Street Sign - Dangling': \"Maintenance\",\n",
    "       'Animal Abuse': \"Animal\", 'Noise - Vehicle': \"Noise\", 'Street Sign - Missing': \"Traffic\",\n",
    "       'Noise - Commercial': \"Noise\", 'Drug Activity': \"Human Complaint\", 'Vending': \"Human Complaint\", 'Traffic': \"Traffic\",\n",
    "       'Food Establishment': \"Human Complaint\", 'Taxi Complaint': \"Human Complaint\",\n",
    "       'Root/Sewer/Sidewalk Condition': \"Maintenance\", 'Drinking Water': \"Water\",\n",
    "       'Broken Parking Meter': \"Maintenance\", 'Public Payphone Complaint': \"Maintenance\",\n",
    "       'For Hire Vehicle Complaint': \"Human Complaint\", 'Street Sign - Damaged': \"Maintenance\",\n",
    "       'New Tree Request': \"Plants\", 'Overgrown Tree/Branches': \"Plants\", 'Curb Condition': \"Maintenance\",\n",
    "       'Noise - House of Worship': \"Noise\", 'Non-Emergency Police Matter': \"Human Complaint\",\n",
    "       'Indoor Air Quality': \"Maintenance\", 'Rodent': \"Noise\", 'Unsanitary Animal Pvt Property': \"Animal\",\n",
    "       'Food Poisoning': \"Human Complaint\", 'Unsanitary Pigeon Condition': \"Animal\", 'Noise - Park': \"Noise\",\n",
    "       'DOF Property - Payment Issue': \"Human Complaint\", 'Animal in a Park': \"Animal\", 'Mold': \"Maintenance\",\n",
    "       'Indoor Sewage': \"Maintenance\", 'School Maintenance': \"Maintenance\", 'Dead/Dying Tree': \"Plants\",\n",
    "       'Beach/Pool/Sauna Complaint': \"Water\", 'DRIE': \"Human Complaint\", 'Maintenance or Facility': \"Maintenance\",\n",
    "       'Bus Stop Shelter Placement': \"Traffic\", 'Illegal Tree Damage': \"Plants\",\n",
    "       'Posting Advertisement': \"Human Complaint\", 'DPR Internal': \"Human Complaint\", 'Drinking': \"Water\",\n",
    "       'Bus Stop Shelter Complaint': \"Maintenance\", 'LinkNYC': \"Traffic\", 'Bike Rack Condition': \"Maintenance\",\n",
    "       'Violation of Park Rules': \"Human Complaint\", 'Public Toilet': \"Maintenance\",\n",
    "       'DOF Property - Reduction Issue': \"Human Complaint\", 'Lifeguard': \"Human Complaint\"}"
   ]
  },
  {
   "cell_type": "code",
   "execution_count": 107,
   "metadata": {},
   "outputs": [],
   "source": [
    "api_df['Complaint Grouping'] = api_df.complaint_type.map(mapping)"
   ]
  },
  {
   "cell_type": "code",
   "execution_count": 108,
   "metadata": {},
   "outputs": [],
   "source": [
    "api_df.drop('complaint_type',axis=1, inplace=True)\n",
    "api_df.drop('due_date',axis=1, inplace=True)"
   ]
  },
  {
   "cell_type": "code",
   "execution_count": 109,
   "metadata": {},
   "outputs": [
    {
     "data": {
      "text/plain": [
       "array(['Above Address', 'Street/Sidewalk', 'Residential Building/House',\n",
       "       'Other', 'Comercial', 'Sidewalk', 'Street', 'Bus Stop Shelter',\n",
       "       'Store/Commercial', 'Club/Bar/Restaurant', 'Highway',\n",
       "       'Restaurant/Bar/Deli/Bakery', '1-3 Family Mixed Use Building',\n",
       "       'Hallway', 'Residential', 'Street and Sidewalk', 'Bridge',\n",
       "       'Other (Explain Below)', 'Beach', 'House of Worship',\n",
       "       'Park/Playground', 'Mixed Use', '3+ Family Apartment Building',\n",
       "       '3+ Family Apt. Building', 'Commercial Building',\n",
       "       '1-2 Family Dwelling', '3+ Family Mixed Use Building',\n",
       "       'Construction Site', 'Public Garden',\n",
       "       '1-2 Family Mixed Use Building', 'Vacant Lot', 'Catch Basin/Sewer',\n",
       "       'Commercial', 'Property Address', 'Street/Curbside', 'School',\n",
       "       'Park', 'Overpass', 'Spa Pool', \"DRIE Tenant's Address\",\n",
       "       'Recreation Center', 'Pool', 'Curb', 'Bridge/Underpass',\n",
       "       'Stairwell', 'Residential Building', 'Parking Lot', 'Subway',\n",
       "       'School/Pre-School', 'Vacant Building', 'Parking Lot/Garage',\n",
       "       'House and Store', 'Food Cart Vendor', 'Senior Center',\n",
       "       'Cafeteria - College/University', 'Lobby', 'Common Area',\n",
       "       'Apartment Building', 'Crosswalk', 'Lot', 'Steam Room',\n",
       "       'Other (explain in Complaint Details)', 'Government Building',\n",
       "       'Residence'], dtype=object)"
      ]
     },
     "execution_count": 109,
     "metadata": {},
     "output_type": "execute_result"
    }
   ],
   "source": [
    "api_df['location_type'].unique()"
   ]
  },
  {
   "cell_type": "code",
   "execution_count": 110,
   "metadata": {},
   "outputs": [],
   "source": [
    "mapping2= {'Above Address': \"Public\", 'Street/Sidewalk': \"Public\", 'Residential Building/House': \"Residential\",\n",
    "       'Comercial': \"Business\", 'Sidewalk': \"Public\", 'Street': \"Public\", 'Club/Bar/Restaurant': \"Business\",\n",
    "       'Restaurant/Bar/Deli/Bakery': \"Business\", '1-3 Family Mixed Use Building': \"Residential\",\n",
    "       'Hallway': \"Public\", 'Residential': \"Residential\", 'Store/Commercial': \"Business\",\n",
    "       'Street and Sidewalk': \"Public\", 'Other (Explain Below)': \"Public\", 'Highway': \"Public\",\n",
    "       'House of Worship': \"Business\", 'Mixed Use': \"Public\", '3+ Family Apartment Building': \"Residential\",\n",
    "       'Other': \"Public\", '3+ Family Apt. Building': \"Residential\", 'Commercial Building': \"Business\",\n",
    "       '1-2 Family Dwelling': \"Residential\", '3+ Family Mixed Use Building': \"Residential\",\n",
    "       'Public Garden': \"Public\", '1-2 Family Mixed Use Building': \"Residential\", 'Vacant Lot': \"Public\",\n",
    "       'Catch Basin/Sewer': \"Public\", 'Park/Playground': \"Public\", 'Property Address': \"Public\",\n",
    "       'Street/Curbside': \"Public\", 'School': \"Public\", 'Overpass': \"Public\", 'Spa Pool': \"Public\",\n",
    "       \"DRIE Tenant's Address\": \"Residential\", 'Bus Stop Shelter': \"Public\", 'Recreation Center': \"Public\",\n",
    "       'Pool': \"Public\", 'Curb': \"Public\", 'Stairwell': \"Public\", 'Residential Building': \"Residential\",\n",
    "       'Construction Site': \"Public\", 'Parking Lot/Garage': \"Public\", 'Commercial': \"Business\",\n",
    "       'House and Store': \"Business\", 'Park': \"Public\", 'Vacant Building': \"Public\", 'Senior Center': \"Business\",\n",
    "       'Cafeteria - College/University': \"Business\", 'Lobby': \"Business\", 'Apartment Building': \"Residential\",\n",
    "       'Steam Room': \"Business\", 'Common Area': \"Public\",\n",
    "       'Other (explain in Complaint Details)': \"Public\", 'Crosswalk': \"Public\"}"
   ]
  },
  {
   "cell_type": "code",
   "execution_count": 111,
   "metadata": {},
   "outputs": [],
   "source": [
    "api_df['Location_Type_Grouping'] = api_df.location_type.map(mapping2)"
   ]
  },
  {
   "cell_type": "code",
   "execution_count": null,
   "metadata": {},
   "outputs": [],
   "source": [
    "\n"
   ]
  },
  {
   "cell_type": "code",
   "execution_count": 116,
   "metadata": {},
   "outputs": [],
   "source": [
    "api_df.drop('status',axis=1, inplace=True)"
   ]
  },
  {
   "cell_type": "code",
   "execution_count": 122,
   "metadata": {},
   "outputs": [],
   "source": [
    "api_df.drop('closed_date',axis=1, inplace=True)"
   ]
  },
  {
   "cell_type": "code",
   "execution_count": 117,
   "metadata": {},
   "outputs": [
    {
     "data": {
      "text/html": [
       "<div>\n",
       "<style scoped>\n",
       "    .dataframe tbody tr th:only-of-type {\n",
       "        vertical-align: middle;\n",
       "    }\n",
       "\n",
       "    .dataframe tbody tr th {\n",
       "        vertical-align: top;\n",
       "    }\n",
       "\n",
       "    .dataframe thead th {\n",
       "        text-align: right;\n",
       "    }\n",
       "</style>\n",
       "<table border=\"1\" class=\"dataframe\">\n",
       "  <thead>\n",
       "    <tr style=\"text-align: right;\">\n",
       "      <th></th>\n",
       "      <th>agency</th>\n",
       "      <th>borough</th>\n",
       "      <th>closed_date</th>\n",
       "      <th>latitude</th>\n",
       "      <th>longitude</th>\n",
       "      <th>open_data_channel_type</th>\n",
       "      <th>late</th>\n",
       "      <th>created_date_day_of_week</th>\n",
       "      <th>Complaint Grouping</th>\n",
       "      <th>Location_Type_Grouping</th>\n",
       "    </tr>\n",
       "  </thead>\n",
       "  <tbody>\n",
       "    <tr>\n",
       "      <th>0</th>\n",
       "      <td>EDC</td>\n",
       "      <td>MANHATTAN</td>\n",
       "      <td>2019-01-08T14:50:50.000</td>\n",
       "      <td>40.734426</td>\n",
       "      <td>-73.987714</td>\n",
       "      <td>ONLINE</td>\n",
       "      <td>False</td>\n",
       "      <td>1</td>\n",
       "      <td>Noise</td>\n",
       "      <td>Public</td>\n",
       "    </tr>\n",
       "    <tr>\n",
       "      <th>3</th>\n",
       "      <td>NYPD</td>\n",
       "      <td>MANHATTAN</td>\n",
       "      <td>2019-01-01T16:42:26.000</td>\n",
       "      <td>40.718309</td>\n",
       "      <td>-73.985476</td>\n",
       "      <td>ONLINE</td>\n",
       "      <td>False</td>\n",
       "      <td>1</td>\n",
       "      <td>Noise</td>\n",
       "      <td>Public</td>\n",
       "    </tr>\n",
       "    <tr>\n",
       "      <th>4</th>\n",
       "      <td>NYPD</td>\n",
       "      <td>MANHATTAN</td>\n",
       "      <td>2019-01-01T15:13:27.000</td>\n",
       "      <td>40.861550</td>\n",
       "      <td>-73.926897</td>\n",
       "      <td>PHONE</td>\n",
       "      <td>False</td>\n",
       "      <td>1</td>\n",
       "      <td>Noise</td>\n",
       "      <td>Residential</td>\n",
       "    </tr>\n",
       "    <tr>\n",
       "      <th>5</th>\n",
       "      <td>NYPD</td>\n",
       "      <td>MANHATTAN</td>\n",
       "      <td>2019-01-01T13:29:20.000</td>\n",
       "      <td>40.721488</td>\n",
       "      <td>-73.995115</td>\n",
       "      <td>ONLINE</td>\n",
       "      <td>False</td>\n",
       "      <td>1</td>\n",
       "      <td>Noise</td>\n",
       "      <td>Residential</td>\n",
       "    </tr>\n",
       "    <tr>\n",
       "      <th>6</th>\n",
       "      <td>NYPD</td>\n",
       "      <td>BROOKLYN</td>\n",
       "      <td>2019-01-01T15:05:18.000</td>\n",
       "      <td>40.620056</td>\n",
       "      <td>-73.940781</td>\n",
       "      <td>PHONE</td>\n",
       "      <td>False</td>\n",
       "      <td>1</td>\n",
       "      <td>Traffic</td>\n",
       "      <td>Public</td>\n",
       "    </tr>\n",
       "  </tbody>\n",
       "</table>\n",
       "</div>"
      ],
      "text/plain": [
       "  agency    borough              closed_date   latitude  longitude  \\\n",
       "0    EDC  MANHATTAN  2019-01-08T14:50:50.000  40.734426 -73.987714   \n",
       "3   NYPD  MANHATTAN  2019-01-01T16:42:26.000  40.718309 -73.985476   \n",
       "4   NYPD  MANHATTAN  2019-01-01T15:13:27.000  40.861550 -73.926897   \n",
       "5   NYPD  MANHATTAN  2019-01-01T13:29:20.000  40.721488 -73.995115   \n",
       "6   NYPD   BROOKLYN  2019-01-01T15:05:18.000  40.620056 -73.940781   \n",
       "\n",
       "  open_data_channel_type   late  created_date_day_of_week Complaint Grouping  \\\n",
       "0                 ONLINE  False                         1              Noise   \n",
       "3                 ONLINE  False                         1              Noise   \n",
       "4                  PHONE  False                         1              Noise   \n",
       "5                 ONLINE  False                         1              Noise   \n",
       "6                  PHONE  False                         1            Traffic   \n",
       "\n",
       "  Location_Type_Grouping  \n",
       "0                 Public  \n",
       "3                 Public  \n",
       "4            Residential  \n",
       "5            Residential  \n",
       "6                 Public  "
      ]
     },
     "execution_count": 117,
     "metadata": {},
     "output_type": "execute_result"
    }
   ],
   "source": [
    "api_df.head()"
   ]
  },
  {
   "cell_type": "code",
   "execution_count": null,
   "metadata": {},
   "outputs": [],
   "source": []
  },
  {
   "cell_type": "code",
   "execution_count": null,
   "metadata": {},
   "outputs": [],
   "source": []
  },
  {
   "cell_type": "code",
   "execution_count": 132,
   "metadata": {},
   "outputs": [],
   "source": [
    "api_df.to_csv('C:/Users/jeffr/Documents/MTA Info/mta_311_12_26_14_cleaned.csv',  index = False)"
   ]
  },
  {
   "cell_type": "code",
   "execution_count": null,
   "metadata": {},
   "outputs": [],
   "source": []
  },
  {
   "cell_type": "code",
   "execution_count": null,
   "metadata": {},
   "outputs": [],
   "source": []
  },
  {
   "cell_type": "code",
   "execution_count": null,
   "metadata": {},
   "outputs": [],
   "source": []
  },
  {
   "cell_type": "code",
   "execution_count": null,
   "metadata": {},
   "outputs": [],
   "source": []
  }
 ],
 "metadata": {
  "kernelspec": {
   "display_name": "Python 3",
   "language": "python",
   "name": "python3"
  },
  "language_info": {
   "codemirror_mode": {
    "name": "ipython",
    "version": 3
   },
   "file_extension": ".py",
   "mimetype": "text/x-python",
   "name": "python",
   "nbconvert_exporter": "python",
   "pygments_lexer": "ipython3",
   "version": "3.7.3"
  }
 },
 "nbformat": 4,
 "nbformat_minor": 2
}
