{
 "cells": [
  {
   "cell_type": "code",
   "execution_count": 150,
   "metadata": {},
   "outputs": [],
   "source": [
    "#import libraries\n",
    "\n",
    "import pandas as pd\n",
    "import numpy as np\n",
    "from matplotlib import pyplot as plt\n",
    "from matplotlib import pyplot\n",
    "from sklearn.ensemble import RandomForestRegressor\n",
    "from sklearn.model_selection import train_test_split\n",
    "from sklearn.metrics import classification_report\n",
    "from sklearn.linear_model import LogisticRegression\n",
    "from sklearn import metrics\n",
    "from sklearn.metrics import roc_auc_score\n",
    "from sklearn.metrics import roc_curve\n",
    "from sklearn.metrics import precision_recall_curve\n",
    "from sklearn.metrics import f1_score\n",
    "from sklearn.metrics import auc\n",
    "import math\n",
    "from astropy.table import Table\n",
    "from sklearn.metrics import confusion_matrix"
   ]
  },
  {
   "cell_type": "code",
   "execution_count": 151,
   "metadata": {},
   "outputs": [],
   "source": [
    "#read data\n",
    "\n",
    "api_df = pd.read_csv('C:/Users/jeffr/Documents/MTA Info/mta_311_12_26_14_dummies.csv',low_memory=False)"
   ]
  },
  {
   "cell_type": "code",
   "execution_count": 152,
   "metadata": {},
   "outputs": [
    {
     "data": {
      "text/html": [
       "<div>\n",
       "<style scoped>\n",
       "    .dataframe tbody tr th:only-of-type {\n",
       "        vertical-align: middle;\n",
       "    }\n",
       "\n",
       "    .dataframe tbody tr th {\n",
       "        vertical-align: top;\n",
       "    }\n",
       "\n",
       "    .dataframe thead th {\n",
       "        text-align: right;\n",
       "    }\n",
       "</style>\n",
       "<table border=\"1\" class=\"dataframe\">\n",
       "  <thead>\n",
       "    <tr style=\"text-align: right;\">\n",
       "      <th></th>\n",
       "      <th>latitude</th>\n",
       "      <th>longitude</th>\n",
       "      <th>late</th>\n",
       "      <th>created_date_day_of_week</th>\n",
       "      <th>agency_DFTA</th>\n",
       "      <th>agency_DHS</th>\n",
       "      <th>agency_DOE</th>\n",
       "      <th>agency_DOF</th>\n",
       "      <th>agency_DOHMH</th>\n",
       "      <th>agency_DOITT</th>\n",
       "      <th>...</th>\n",
       "      <th>Complaint Grouping_Noise</th>\n",
       "      <th>Complaint Grouping_Plants</th>\n",
       "      <th>Complaint Grouping_Traffic</th>\n",
       "      <th>Complaint Grouping_Water</th>\n",
       "      <th>open_data_channel_type_MOBILE</th>\n",
       "      <th>open_data_channel_type_ONLINE</th>\n",
       "      <th>open_data_channel_type_PHONE</th>\n",
       "      <th>Location_Type_Grouping_Business</th>\n",
       "      <th>Location_Type_Grouping_Public</th>\n",
       "      <th>Location_Type_Grouping_Residential</th>\n",
       "    </tr>\n",
       "  </thead>\n",
       "  <tbody>\n",
       "    <tr>\n",
       "      <th>0</th>\n",
       "      <td>40.734426</td>\n",
       "      <td>-73.987714</td>\n",
       "      <td>False</td>\n",
       "      <td>1</td>\n",
       "      <td>0</td>\n",
       "      <td>0</td>\n",
       "      <td>0</td>\n",
       "      <td>0</td>\n",
       "      <td>0</td>\n",
       "      <td>0</td>\n",
       "      <td>...</td>\n",
       "      <td>1</td>\n",
       "      <td>0</td>\n",
       "      <td>0</td>\n",
       "      <td>0</td>\n",
       "      <td>0</td>\n",
       "      <td>1</td>\n",
       "      <td>0</td>\n",
       "      <td>0</td>\n",
       "      <td>1</td>\n",
       "      <td>0</td>\n",
       "    </tr>\n",
       "    <tr>\n",
       "      <th>1</th>\n",
       "      <td>40.718309</td>\n",
       "      <td>-73.985476</td>\n",
       "      <td>False</td>\n",
       "      <td>1</td>\n",
       "      <td>0</td>\n",
       "      <td>0</td>\n",
       "      <td>0</td>\n",
       "      <td>0</td>\n",
       "      <td>0</td>\n",
       "      <td>0</td>\n",
       "      <td>...</td>\n",
       "      <td>1</td>\n",
       "      <td>0</td>\n",
       "      <td>0</td>\n",
       "      <td>0</td>\n",
       "      <td>0</td>\n",
       "      <td>1</td>\n",
       "      <td>0</td>\n",
       "      <td>0</td>\n",
       "      <td>1</td>\n",
       "      <td>0</td>\n",
       "    </tr>\n",
       "    <tr>\n",
       "      <th>2</th>\n",
       "      <td>40.861550</td>\n",
       "      <td>-73.926897</td>\n",
       "      <td>False</td>\n",
       "      <td>1</td>\n",
       "      <td>0</td>\n",
       "      <td>0</td>\n",
       "      <td>0</td>\n",
       "      <td>0</td>\n",
       "      <td>0</td>\n",
       "      <td>0</td>\n",
       "      <td>...</td>\n",
       "      <td>1</td>\n",
       "      <td>0</td>\n",
       "      <td>0</td>\n",
       "      <td>0</td>\n",
       "      <td>0</td>\n",
       "      <td>0</td>\n",
       "      <td>1</td>\n",
       "      <td>0</td>\n",
       "      <td>0</td>\n",
       "      <td>1</td>\n",
       "    </tr>\n",
       "    <tr>\n",
       "      <th>3</th>\n",
       "      <td>40.721488</td>\n",
       "      <td>-73.995115</td>\n",
       "      <td>False</td>\n",
       "      <td>1</td>\n",
       "      <td>0</td>\n",
       "      <td>0</td>\n",
       "      <td>0</td>\n",
       "      <td>0</td>\n",
       "      <td>0</td>\n",
       "      <td>0</td>\n",
       "      <td>...</td>\n",
       "      <td>1</td>\n",
       "      <td>0</td>\n",
       "      <td>0</td>\n",
       "      <td>0</td>\n",
       "      <td>0</td>\n",
       "      <td>1</td>\n",
       "      <td>0</td>\n",
       "      <td>0</td>\n",
       "      <td>0</td>\n",
       "      <td>1</td>\n",
       "    </tr>\n",
       "    <tr>\n",
       "      <th>4</th>\n",
       "      <td>40.620056</td>\n",
       "      <td>-73.940781</td>\n",
       "      <td>False</td>\n",
       "      <td>1</td>\n",
       "      <td>0</td>\n",
       "      <td>0</td>\n",
       "      <td>0</td>\n",
       "      <td>0</td>\n",
       "      <td>0</td>\n",
       "      <td>0</td>\n",
       "      <td>...</td>\n",
       "      <td>0</td>\n",
       "      <td>0</td>\n",
       "      <td>1</td>\n",
       "      <td>0</td>\n",
       "      <td>0</td>\n",
       "      <td>0</td>\n",
       "      <td>1</td>\n",
       "      <td>0</td>\n",
       "      <td>1</td>\n",
       "      <td>0</td>\n",
       "    </tr>\n",
       "  </tbody>\n",
       "</table>\n",
       "<p>5 rows × 34 columns</p>\n",
       "</div>"
      ],
      "text/plain": [
       "    latitude  longitude   late  created_date_day_of_week  agency_DFTA  \\\n",
       "0  40.734426 -73.987714  False                         1            0   \n",
       "1  40.718309 -73.985476  False                         1            0   \n",
       "2  40.861550 -73.926897  False                         1            0   \n",
       "3  40.721488 -73.995115  False                         1            0   \n",
       "4  40.620056 -73.940781  False                         1            0   \n",
       "\n",
       "   agency_DHS  agency_DOE  agency_DOF  agency_DOHMH  agency_DOITT  ...  \\\n",
       "0           0           0           0             0             0  ...   \n",
       "1           0           0           0             0             0  ...   \n",
       "2           0           0           0             0             0  ...   \n",
       "3           0           0           0             0             0  ...   \n",
       "4           0           0           0             0             0  ...   \n",
       "\n",
       "   Complaint Grouping_Noise  Complaint Grouping_Plants  \\\n",
       "0                         1                          0   \n",
       "1                         1                          0   \n",
       "2                         1                          0   \n",
       "3                         1                          0   \n",
       "4                         0                          0   \n",
       "\n",
       "   Complaint Grouping_Traffic  Complaint Grouping_Water  \\\n",
       "0                           0                         0   \n",
       "1                           0                         0   \n",
       "2                           0                         0   \n",
       "3                           0                         0   \n",
       "4                           1                         0   \n",
       "\n",
       "   open_data_channel_type_MOBILE  open_data_channel_type_ONLINE  \\\n",
       "0                              0                              1   \n",
       "1                              0                              1   \n",
       "2                              0                              0   \n",
       "3                              0                              1   \n",
       "4                              0                              0   \n",
       "\n",
       "   open_data_channel_type_PHONE  Location_Type_Grouping_Business  \\\n",
       "0                             0                                0   \n",
       "1                             0                                0   \n",
       "2                             1                                0   \n",
       "3                             0                                0   \n",
       "4                             1                                0   \n",
       "\n",
       "   Location_Type_Grouping_Public  Location_Type_Grouping_Residential  \n",
       "0                              1                                   0  \n",
       "1                              1                                   0  \n",
       "2                              0                                   1  \n",
       "3                              0                                   1  \n",
       "4                              1                                   0  \n",
       "\n",
       "[5 rows x 34 columns]"
      ]
     },
     "execution_count": 152,
     "metadata": {},
     "output_type": "execute_result"
    }
   ],
   "source": [
    "#check dataframe\n",
    "\n",
    "api_df.head()"
   ]
  },
  {
   "cell_type": "code",
   "execution_count": 153,
   "metadata": {},
   "outputs": [],
   "source": [
    "#convert to boolean\n",
    "\n",
    "api_df['late'] =api_df['late']*1"
   ]
  },
  {
   "cell_type": "code",
   "execution_count": 154,
   "metadata": {},
   "outputs": [
    {
     "data": {
      "text/plain": [
       "count    15800.000000\n",
       "mean         0.140570\n",
       "std          0.347588\n",
       "min          0.000000\n",
       "25%          0.000000\n",
       "50%          0.000000\n",
       "75%          0.000000\n",
       "max          1.000000\n",
       "Name: late, dtype: float64"
      ]
     },
     "execution_count": 154,
     "metadata": {},
     "output_type": "execute_result"
    }
   ],
   "source": [
    "#check new column\n",
    "\n",
    "api_df['late'].describe()"
   ]
  },
  {
   "cell_type": "code",
   "execution_count": 155,
   "metadata": {},
   "outputs": [],
   "source": [
    "#Set target variable\n",
    "\n",
    "y = api_df.pop('late')"
   ]
  },
  {
   "cell_type": "code",
   "execution_count": 156,
   "metadata": {},
   "outputs": [],
   "source": [
    "#Set features\n",
    "\n",
    "X = api_df"
   ]
  },
  {
   "cell_type": "code",
   "execution_count": 157,
   "metadata": {},
   "outputs": [],
   "source": [
    "#split dataset into train and test sets\n",
    "\n",
    "X_train, X_test , y_train, y_test = train_test_split(X,y, test_size = .5, random_state = 2)"
   ]
  },
  {
   "cell_type": "code",
   "execution_count": 158,
   "metadata": {},
   "outputs": [
    {
     "name": "stdout",
     "output_type": "stream",
     "text": [
      "Training Features Shape: (7900, 33)\n",
      "Training Labels Shape: (7900,)\n",
      "Testing Features Shape: (7900, 33)\n",
      "Testing Labels Shape: (7900,)\n"
     ]
    }
   ],
   "source": [
    "#Verify shapes\n",
    "\n",
    "print('Training Features Shape:', X_train.shape)\n",
    "print('Training Labels Shape:', y_train.shape)\n",
    "print('Testing Features Shape:', X_test.shape)\n",
    "print('Testing Labels Shape:', y_test.shape)"
   ]
  },
  {
   "cell_type": "code",
   "execution_count": 159,
   "metadata": {},
   "outputs": [],
   "source": [
    "#define regressor\n",
    "\n",
    "random_forest = RandomForestRegressor()"
   ]
  },
  {
   "cell_type": "code",
   "execution_count": 160,
   "metadata": {},
   "outputs": [
    {
     "name": "stderr",
     "output_type": "stream",
     "text": [
      "C:\\ProgramData\\Anaconda3\\lib\\site-packages\\sklearn\\ensemble\\forest.py:245: FutureWarning: The default value of n_estimators will change from 10 in version 0.20 to 100 in 0.22.\n",
      "  \"10 in version 0.20 to 100 in 0.22.\", FutureWarning)\n"
     ]
    },
    {
     "data": {
      "text/plain": [
       "RandomForestRegressor(bootstrap=True, criterion='mse', max_depth=None,\n",
       "                      max_features='auto', max_leaf_nodes=None,\n",
       "                      min_impurity_decrease=0.0, min_impurity_split=None,\n",
       "                      min_samples_leaf=1, min_samples_split=2,\n",
       "                      min_weight_fraction_leaf=0.0, n_estimators=10,\n",
       "                      n_jobs=None, oob_score=False, random_state=None,\n",
       "                      verbose=0, warm_start=False)"
      ]
     },
     "execution_count": 160,
     "metadata": {},
     "output_type": "execute_result"
    }
   ],
   "source": [
    "#fit model\n",
    "\n",
    "random_forest.fit(X_train, y_train)"
   ]
  },
  {
   "cell_type": "code",
   "execution_count": 161,
   "metadata": {},
   "outputs": [
    {
     "data": {
      "text/plain": [
       "0.14334279168987"
      ]
     },
     "execution_count": 161,
     "metadata": {},
     "output_type": "execute_result"
    }
   ],
   "source": [
    "#Score of model\n",
    "\n",
    "random_forest.score(X_test,y_test)"
   ]
  },
  {
   "cell_type": "code",
   "execution_count": 162,
   "metadata": {},
   "outputs": [],
   "source": [
    "#predictions\n",
    "\n",
    "predictions = random_forest.predict(X_test)"
   ]
  },
  {
   "cell_type": "code",
   "execution_count": 163,
   "metadata": {},
   "outputs": [],
   "source": [
    "#errors\n",
    "\n",
    "errors = abs(predictions - y_test)"
   ]
  },
  {
   "cell_type": "code",
   "execution_count": 164,
   "metadata": {},
   "outputs": [
    {
     "name": "stdout",
     "output_type": "stream",
     "text": [
      "Metrics for Random Forest Trained on Training Data\n",
      "Average absolute error: 0.18 degrees.\n"
     ]
    }
   ],
   "source": [
    "print('Metrics for Random Forest Trained on Training Data')\n",
    "print('Average absolute error:', round(np.mean(errors), 2), 'degrees.')"
   ]
  },
  {
   "cell_type": "code",
   "execution_count": 165,
   "metadata": {},
   "outputs": [],
   "source": [
    "#examine features\n",
    "\n",
    "RF_features = random_forest.feature_importances_"
   ]
  },
  {
   "cell_type": "code",
   "execution_count": 166,
   "metadata": {},
   "outputs": [],
   "source": [
    "#indices of RF\n",
    "\n",
    "RF_indices = np.argsort(RF_features)[::-1]"
   ]
  },
  {
   "cell_type": "code",
   "execution_count": 167,
   "metadata": {},
   "outputs": [],
   "source": [
    "#names of columns\n",
    "\n",
    "RF_names = X_test.columns"
   ]
  },
  {
   "cell_type": "code",
   "execution_count": 168,
   "metadata": {},
   "outputs": [
    {
     "data": {
      "text/plain": [
       "array([0.33001414, 0.31142172, 0.10650221, 0.06056669, 0.0387477 ,\n",
       "       0.02681137, 0.01272474, 0.01272022, 0.01085496, 0.01072028])"
      ]
     },
     "execution_count": 168,
     "metadata": {},
     "output_type": "execute_result"
    }
   ],
   "source": [
    "#Coefficients of features ranked by importance\n",
    "\n",
    "RF_names[RF_indices][:10]\n",
    "RF_features[RF_indices][:10]"
   ]
  },
  {
   "cell_type": "code",
   "execution_count": 169,
   "metadata": {},
   "outputs": [
    {
     "data": {
      "image/png": "[encoded data removed]",
      "text/plain": [
       "<Figure size 432x288 with 1 Axes>"
      ]
     },
     "metadata": {
      "needs_background": "light"
     },
     "output_type": "display_data"
    }
   ],
   "source": [
    "#look at graph of features by importance\n",
    "\n",
    "plt.barh(RF_names[RF_indices][:15],RF_features[RF_indices][:15]);"
   ]
  },
  {
   "cell_type": "code",
   "execution_count": 170,
   "metadata": {},
   "outputs": [
    {
     "name": "stderr",
     "output_type": "stream",
     "text": [
      "C:\\ProgramData\\Anaconda3\\lib\\site-packages\\sklearn\\linear_model\\logistic.py:947: ConvergenceWarning: lbfgs failed to converge. Increase the number of iterations.\n",
      "  \"of iterations.\", ConvergenceWarning)\n",
      "C:\\ProgramData\\Anaconda3\\lib\\site-packages\\sklearn\\linear_model\\logistic.py:947: ConvergenceWarning: lbfgs failed to converge. Increase the number of iterations.\n",
      "  \"of iterations.\", ConvergenceWarning)\n",
      "C:\\ProgramData\\Anaconda3\\lib\\site-packages\\sklearn\\linear_model\\logistic.py:947: ConvergenceWarning: lbfgs failed to converge. Increase the number of iterations.\n",
      "  \"of iterations.\", ConvergenceWarning)\n",
      "C:\\ProgramData\\Anaconda3\\lib\\site-packages\\sklearn\\linear_model\\logistic.py:947: ConvergenceWarning: lbfgs failed to converge. Increase the number of iterations.\n",
      "  \"of iterations.\", ConvergenceWarning)\n",
      "C:\\ProgramData\\Anaconda3\\lib\\site-packages\\sklearn\\linear_model\\logistic.py:947: ConvergenceWarning: lbfgs failed to converge. Increase the number of iterations.\n",
      "  \"of iterations.\", ConvergenceWarning)\n",
      "C:\\ProgramData\\Anaconda3\\lib\\site-packages\\sklearn\\linear_model\\logistic.py:947: ConvergenceWarning: lbfgs failed to converge. Increase the number of iterations.\n",
      "  \"of iterations.\", ConvergenceWarning)\n",
      "C:\\ProgramData\\Anaconda3\\lib\\site-packages\\sklearn\\linear_model\\logistic.py:947: ConvergenceWarning: lbfgs failed to converge. Increase the number of iterations.\n",
      "  \"of iterations.\", ConvergenceWarning)\n",
      "C:\\ProgramData\\Anaconda3\\lib\\site-packages\\sklearn\\linear_model\\logistic.py:947: ConvergenceWarning: lbfgs failed to converge. Increase the number of iterations.\n",
      "  \"of iterations.\", ConvergenceWarning)\n",
      "C:\\ProgramData\\Anaconda3\\lib\\site-packages\\sklearn\\linear_model\\logistic.py:947: ConvergenceWarning: lbfgs failed to converge. Increase the number of iterations.\n",
      "  \"of iterations.\", ConvergenceWarning)\n"
     ]
    },
    {
     "name": "stdout",
     "output_type": "stream",
     "text": [
      "[False False False  True  True  True False  True  True  True False  True\n",
      "  True  True  True  True  True False  True  True False  True  True  True\n",
      "  True False  True False False False  True False False]\n",
      "[13 14 11  1  1  1  3  1  1  1  4  1  1  1  1  1  1  5  1  1  2  1  1  1\n",
      "  1  8  1  7 10  9  1  6 12]\n"
     ]
    }
   ],
   "source": [
    "#Recursive Feature Elimination for Logistic Regression Model\n",
    "\n",
    "from sklearn.feature_selection import RFE\n",
    "from sklearn.linear_model import LogisticRegression\n",
    "logreg = LogisticRegression(solver='lbfgs')\n",
    "rfe = RFE(logreg, 20)\n",
    "rfe = rfe.fit(X,y.values.ravel())\n",
    "print(rfe.support_)\n",
    "print(rfe.ranking_)"
   ]
  },
  {
   "cell_type": "code",
   "execution_count": 171,
   "metadata": {},
   "outputs": [
    {
     "data": {
      "text/plain": [
       "Index(['latitude', 'longitude', 'created_date_day_of_week', 'agency_DFTA',\n",
       "       'agency_DHS', 'agency_DOE', 'agency_DOF', 'agency_DOHMH',\n",
       "       'agency_DOITT', 'agency_DOT', 'agency_DPR', 'agency_EDC', 'agency_NYPD',\n",
       "       'agency_TLC', 'borough_BRONX', 'borough_BROOKLYN', 'borough_MANHATTAN',\n",
       "       'borough_QUEENS', 'borough_STATEN ISLAND', 'Complaint Grouping_Animal',\n",
       "       'Complaint Grouping_Cleaning', 'Complaint Grouping_Human Complaint',\n",
       "       'Complaint Grouping_Maintenance', 'Complaint Grouping_Noise',\n",
       "       'Complaint Grouping_Plants', 'Complaint Grouping_Traffic',\n",
       "       'Complaint Grouping_Water', 'open_data_channel_type_MOBILE',\n",
       "       'open_data_channel_type_ONLINE', 'open_data_channel_type_PHONE',\n",
       "       'Location_Type_Grouping_Business', 'Location_Type_Grouping_Public',\n",
       "       'Location_Type_Grouping_Residential'],\n",
       "      dtype='object')"
      ]
     },
     "execution_count": 171,
     "metadata": {},
     "output_type": "execute_result"
    }
   ],
   "source": [
    "X.columns"
   ]
  },
  {
   "cell_type": "code",
   "execution_count": 172,
   "metadata": {},
   "outputs": [],
   "source": [
    "cols=['agency_DFTA','agency_DHS', 'agency_DOE',\n",
    "       'agency_DOHMH', 'agency_DOITT', 'agency_DOT', 'agency_EDC',\n",
    "       'agency_NYPD', 'agency_TLC','borough_BRONX', 'borough_BROOKLYN',\n",
    "       'borough_MANHATTAN', 'borough_STATEN ISLAND', 'Complaint Grouping_Animal',\n",
    "       'Complaint Grouping_Human Complaint', 'Complaint Grouping_Maintenance','Complaint Grouping_Noise',\n",
    "       'Complaint Grouping_Plants','Complaint Grouping_Water',  'Location_Type_Grouping_Business']"
   ]
  },
  {
   "cell_type": "code",
   "execution_count": 173,
   "metadata": {},
   "outputs": [],
   "source": [
    "#Features selected by RFE\n",
    "X=api_df[cols]"
   ]
  },
  {
   "cell_type": "code",
   "execution_count": 174,
   "metadata": {},
   "outputs": [
    {
     "name": "stderr",
     "output_type": "stream",
     "text": [
      "C:\\ProgramData\\Anaconda3\\lib\\site-packages\\sklearn\\linear_model\\logistic.py:432: FutureWarning: Default solver will be changed to 'lbfgs' in 0.22. Specify a solver to silence this warning.\n",
      "  FutureWarning)\n"
     ]
    }
   ],
   "source": [
    "#split again into training and test set due to changed columns and then fit\n",
    "\n",
    "logreg = LogisticRegression()\n",
    "X_train, X_test , y_train, y_test = train_test_split(X,y, test_size = .5, random_state = 2)\n",
    "result=logreg.fit(X_train, y_train)"
   ]
  },
  {
   "cell_type": "code",
   "execution_count": 175,
   "metadata": {},
   "outputs": [
    {
     "name": "stdout",
     "output_type": "stream",
     "text": [
      "Accuracy of logistic regression classifier on test set: 0.87\n"
     ]
    }
   ],
   "source": [
    "#Accuracy\n",
    "\n",
    "y_pred = logreg.predict(X_test)\n",
    "print('Accuracy of logistic regression classifier on test set: {:.2f}'.format(logreg.score(X_test, y_test)))"
   ]
  },
  {
   "cell_type": "code",
   "execution_count": 176,
   "metadata": {},
   "outputs": [
    {
     "name": "stdout",
     "output_type": "stream",
     "text": [
      "[[6726   56]\n",
      " [ 989  129]]\n"
     ]
    }
   ],
   "source": [
    "#Confusion Matrix\n",
    "\n",
    "confusion_matrix = confusion_matrix(y_test, y_pred)\n",
    "print(confusion_matrix)"
   ]
  },
  {
   "cell_type": "code",
   "execution_count": 177,
   "metadata": {},
   "outputs": [
    {
     "name": "stdout",
     "output_type": "stream",
     "text": [
      "              precision    recall  f1-score   support\n",
      "\n",
      "           0       0.87      0.99      0.93      6782\n",
      "           1       0.70      0.12      0.20      1118\n",
      "\n",
      "    accuracy                           0.87      7900\n",
      "   macro avg       0.78      0.55      0.56      7900\n",
      "weighted avg       0.85      0.87      0.82      7900\n",
      "\n"
     ]
    }
   ],
   "source": [
    "#Evaluation of model performance\n",
    "\n",
    "print(classification_report(y_test, y_pred))"
   ]
  },
  {
   "cell_type": "code",
   "execution_count": 178,
   "metadata": {},
   "outputs": [
    {
     "data": {
      "image/png": "[encoded data removed]",
      "text/plain": [
       "<Figure size 432x288 with 1 Axes>"
      ]
     },
     "metadata": {
      "needs_background": "light"
     },
     "output_type": "display_data"
    }
   ],
   "source": [
    "#AUC-ROC curve\n",
    "logit_roc_auc = roc_auc_score(y_test, logreg.predict(X_test))\n",
    "fpr, tpr, thresholds = roc_curve(y_test, logreg.predict_proba(X_test)[:,1])\n",
    "plt.figure()\n",
    "plt.plot(fpr, tpr, label='Logistic Regression (area = %0.2f)' % logit_roc_auc)\n",
    "plt.plot([0, 1], [0, 1],'r--', label='No Skill Classifier')\n",
    "plt.xlim([0.0, 1.0])\n",
    "plt.ylim([0.0, 1.05])\n",
    "#Graph labels\n",
    "plt.xlabel('False Positive Rate')\n",
    "plt.ylabel('True Positive Rate')\n",
    "plt.title('Receiver operating characteristic')\n",
    "plt.legend(loc=\"lower right\")\n",
    "plt.savefig('Log_ROC')\n",
    "plt.show()"
   ]
  },
  {
   "cell_type": "code",
   "execution_count": 179,
   "metadata": {},
   "outputs": [
    {
     "name": "stdout",
     "output_type": "stream",
     "text": [
      "[0.14151899 0.6972973  1.        ] [1.         0.11538462 0.        ]\n"
     ]
    }
   ],
   "source": [
    "#Precision Recall curve\n",
    "\n",
    "precision, recall, thresholds = precision_recall_curve(y_test, y_pred)\n",
    "print(precision, recall)"
   ]
  },
  {
   "cell_type": "code",
   "execution_count": 180,
   "metadata": {},
   "outputs": [
    {
     "name": "stdout",
     "output_type": "stream",
     "text": [
      "0.19800460475825019\n"
     ]
    }
   ],
   "source": [
    "#F1 score\n",
    "\n",
    "f1 = f1_score(y_test, y_pred)\n",
    "print(f1)"
   ]
  },
  {
   "cell_type": "code",
   "execution_count": 181,
   "metadata": {},
   "outputs": [
    {
     "name": "stdout",
     "output_type": "stream",
     "text": [
      "0.4689358930498171\n"
     ]
    }
   ],
   "source": [
    "#precision-recall AUC\n",
    "\n",
    "auc = auc(recall, precision)\n",
    "print(auc)"
   ]
  },
  {
   "cell_type": "code",
   "execution_count": 183,
   "metadata": {},
   "outputs": [
    {
     "name": "stdout",
     "output_type": "stream",
     "text": [
      "Logistic: f1=0.198 auc=0.469\n"
     ]
    },
    {
     "data": {
      "image/png": "[encoded data removed]",
      "text/plain": [
       "<Figure size 432x288 with 1 Axes>"
      ]
     },
     "metadata": {
      "needs_background": "light"
     },
     "output_type": "display_data"
    }
   ],
   "source": [
    "# precision-recall curve and f1\n",
    "from sklearn.metrics import precision_recall_curve\n",
    "from sklearn.metrics import f1_score\n",
    "from sklearn.metrics import auc\n",
    "\n",
    "# predict class values\n",
    "yhat = logreg.predict(X_test)\n",
    "lr_precision, lr_recall, _ = precision_recall_curve(y_test, y_pred)\n",
    "lr_f1, lr_auc = f1_score(y_test, yhat), auc(lr_recall, lr_precision)\n",
    "# summarize scores\n",
    "print('Logistic: f1=%.3f auc=%.3f' % (lr_f1, lr_auc))\n",
    "# plot the precision-recall curves\n",
    "no_skill = len(y_test[y_test==1]) / len(y_test)\n",
    "pyplot.plot([0, 1], [no_skill, no_skill], linestyle='--', label='No Skill')\n",
    "pyplot.plot(lr_recall, lr_precision, marker='.', label='Logistic')\n",
    "#graph labels\n",
    "plt.title('Precision-Recall Curve')\n",
    "pyplot.xlabel('Recall')\n",
    "pyplot.ylabel('Precision')\n",
    "pyplot.legend()\n",
    "pyplot.show()"
   ]
  },
  {
   "cell_type": "code",
   "execution_count": 184,
   "metadata": {},
   "outputs": [
    {
     "name": "stdout",
     "output_type": "stream",
     "text": [
      "[-0.48905014  0.79052143  0.77711627 -0.61241819 -0.19761927 -1.14943405\n",
      "  1.66697279 -0.85402289  2.13875881  0.6556385  -0.41158132 -0.30382587\n",
      "  0.47635461 -0.25090889  0.99122429 -0.43408247 -0.74713927  0.36150004\n",
      "  0.31667372  0.70357439]\n"
     ]
    }
   ],
   "source": [
    "#Coeffcieints of features\n",
    "\n",
    "coefficients=(logreg.coef_[0])\n",
    "print(coefficients)"
   ]
  },
  {
   "cell_type": "code",
   "execution_count": 185,
   "metadata": {},
   "outputs": [
    {
     "name": "stdout",
     "output_type": "stream",
     "text": [
      "[0.61320858 2.20454563 2.17519055 0.54203853 0.82068225 0.31681602\n",
      " 5.29611105 0.42569894 8.48889475 1.92637211 0.66260164 0.73798936\n",
      " 1.61019391 0.77809326 2.69453133 0.64785883 0.4737198  1.43548108\n",
      " 1.37255466 2.02096353]\n"
     ]
    }
   ],
   "source": [
    "#Odds Ratio\n",
    "\n",
    "odds=np.exp(logreg.coef_[0])\n",
    "print(odds)"
   ]
  },
  {
   "cell_type": "code",
   "execution_count": 186,
   "metadata": {},
   "outputs": [
    {
     "data": {
      "text/plain": [
       "Index(['agency_DFTA', 'agency_DHS', 'agency_DOE', 'agency_DOHMH',\n",
       "       'agency_DOITT', 'agency_DOT', 'agency_EDC', 'agency_NYPD', 'agency_TLC',\n",
       "       'borough_BRONX', 'borough_BROOKLYN', 'borough_MANHATTAN',\n",
       "       'borough_STATEN ISLAND', 'Complaint Grouping_Animal',\n",
       "       'Complaint Grouping_Human Complaint', 'Complaint Grouping_Maintenance',\n",
       "       'Complaint Grouping_Noise', 'Complaint Grouping_Plants',\n",
       "       'Complaint Grouping_Water', 'Location_Type_Grouping_Business'],\n",
       "      dtype='object')"
      ]
     },
     "execution_count": 186,
     "metadata": {},
     "output_type": "execute_result"
    }
   ],
   "source": [
    "#Features of columns\n",
    "\n",
    "features=X.columns\n",
    "features"
   ]
  },
  {
   "cell_type": "code",
   "execution_count": 189,
   "metadata": {},
   "outputs": [
    {
     "data": {
      "text/html": [
       "<i>Table length=20</i>\n",
       "<table id=\"table2180757277888\" class=\"table-striped table-bordered table-condensed\">\n",
       "<thead><tr><th>features</th><th>coefficients</th><th>odds ratio</th></tr></thead>\n",
       "<thead><tr><th>object</th><th>float64</th><th>float64</th></tr></thead>\n",
       "<tr><td>agency_DFTA</td><td>-0.4890501427947647</td><td>0.6132085782311333</td></tr>\n",
       "<tr><td>agency_DHS</td><td>0.7905214250876688</td><td>2.204545632016986</td></tr>\n",
       "<tr><td>agency_DOE</td><td>0.7771162692006365</td><td>2.175190548481822</td></tr>\n",
       "<tr><td>agency_DOHMH</td><td>-0.6124181891947023</td><td>0.5420385312540468</td></tr>\n",
       "<tr><td>agency_DOITT</td><td>-0.1976192736550583</td><td>0.8206822490184139</td></tr>\n",
       "<tr><td>agency_DOT</td><td>-1.1494340475693037</td><td>0.3168160214476185</td></tr>\n",
       "<tr><td>agency_EDC</td><td>1.6669727864811212</td><td>5.296111046878813</td></tr>\n",
       "<tr><td>agency_NYPD</td><td>-0.8540228941578774</td><td>0.42569894085552573</td></tr>\n",
       "<tr><td>agency_TLC</td><td>2.1387588088341096</td><td>8.488894746206027</td></tr>\n",
       "<tr><td>borough_BRONX</td><td>0.6556384958614397</td><td>1.926372105408051</td></tr>\n",
       "<tr><td>borough_BROOKLYN</td><td>-0.4115813203032325</td><td>0.6626016358375854</td></tr>\n",
       "<tr><td>borough_MANHATTAN</td><td>-0.30382587293139574</td><td>0.7379893591870111</td></tr>\n",
       "<tr><td>borough_STATEN ISLAND</td><td>0.4763546105937086</td><td>1.6101939065477158</td></tr>\n",
       "<tr><td>Complaint Grouping_Animal</td><td>-0.2509088880773264</td><td>0.7780932619025418</td></tr>\n",
       "<tr><td>Complaint Grouping_Human Complaint</td><td>0.9912242857268226</td><td>2.6945313300373996</td></tr>\n",
       "<tr><td>Complaint Grouping_Maintenance</td><td>-0.4340824675104814</td><td>0.6478588259777599</td></tr>\n",
       "<tr><td>Complaint Grouping_Noise</td><td>-0.7471392687660418</td><td>0.4737198012095078</td></tr>\n",
       "<tr><td>Complaint Grouping_Plants</td><td>0.3615000433971755</td><td>1.4354810842801455</td></tr>\n",
       "<tr><td>Complaint Grouping_Water</td><td>0.31667372023654555</td><td>1.3725546620470068</td></tr>\n",
       "<tr><td>Location_Type_Grouping_Business</td><td>0.7035743904383929</td><td>2.0209635253553206</td></tr>\n",
       "</table>"
      ],
      "text/plain": [
       "<Table length=20>\n",
       "             features                  coefficients          odds ratio    \n",
       "              object                     float64              float64      \n",
       "---------------------------------- -------------------- -------------------\n",
       "                       agency_DFTA  -0.4890501427947647  0.6132085782311333\n",
       "                        agency_DHS   0.7905214250876688   2.204545632016986\n",
       "                        agency_DOE   0.7771162692006365   2.175190548481822\n",
       "                      agency_DOHMH  -0.6124181891947023  0.5420385312540468\n",
       "                      agency_DOITT  -0.1976192736550583  0.8206822490184139\n",
       "                        agency_DOT  -1.1494340475693037  0.3168160214476185\n",
       "                        agency_EDC   1.6669727864811212   5.296111046878813\n",
       "                       agency_NYPD  -0.8540228941578774 0.42569894085552573\n",
       "                        agency_TLC   2.1387588088341096   8.488894746206027\n",
       "                     borough_BRONX   0.6556384958614397   1.926372105408051\n",
       "                  borough_BROOKLYN  -0.4115813203032325  0.6626016358375854\n",
       "                 borough_MANHATTAN -0.30382587293139574  0.7379893591870111\n",
       "             borough_STATEN ISLAND   0.4763546105937086  1.6101939065477158\n",
       "         Complaint Grouping_Animal  -0.2509088880773264  0.7780932619025418\n",
       "Complaint Grouping_Human Complaint   0.9912242857268226  2.6945313300373996\n",
       "    Complaint Grouping_Maintenance  -0.4340824675104814  0.6478588259777599\n",
       "          Complaint Grouping_Noise  -0.7471392687660418  0.4737198012095078\n",
       "         Complaint Grouping_Plants   0.3615000433971755  1.4354810842801455\n",
       "          Complaint Grouping_Water  0.31667372023654555  1.3725546620470068\n",
       "   Location_Type_Grouping_Business   0.7035743904383929  2.0209635253553206"
      ]
     },
     "execution_count": 189,
     "metadata": {},
     "output_type": "execute_result"
    }
   ],
   "source": [
    "#Create table of features, coeffcients, and odds ratios\n",
    "\n",
    "t=Table([features,coefficients, odds], names= ('features', 'coefficients','odds ratio'))\n",
    "t"
   ]
  },
  {
   "cell_type": "code",
   "execution_count": null,
   "metadata": {},
   "outputs": [],
   "source": []
  },
  {
   "cell_type": "code",
   "execution_count": null,
   "metadata": {},
   "outputs": [],
   "source": []
  },
  {
   "cell_type": "code",
   "execution_count": null,
   "metadata": {},
   "outputs": [],
   "source": []
  }
 ],
 "metadata": {
  "kernelspec": {
   "display_name": "Python 3",
   "language": "python",
   "name": "python3"
  },
  "language_info": {
   "codemirror_mode": {
    "name": "ipython",
    "version": 3
   },
   "file_extension": ".py",
   "mimetype": "text/x-python",
   "name": "python",
   "nbconvert_exporter": "python",
   "pygments_lexer": "ipython3",
   "version": "3.7.3"
  }
 },
 "nbformat": 4,
 "nbformat_minor": 2
}
